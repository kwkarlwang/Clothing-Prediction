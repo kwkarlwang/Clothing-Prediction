{
 "cells": [
  {
   "cell_type": "code",
   "execution_count": 488,
   "metadata": {},
   "outputs": [
    {
     "name": "stderr",
     "output_type": "stream",
     "text": [
      "[nltk_data] Downloading package averaged_perceptron_tagger to\n",
      "[nltk_data]     /Users/Charlie/nltk_data...\n",
      "[nltk_data]   Package averaged_perceptron_tagger is already up-to-\n",
      "[nltk_data]       date!\n",
      "[nltk_data] Downloading package stopwords to\n",
      "[nltk_data]     /Users/Charlie/nltk_data...\n",
      "[nltk_data]   Package stopwords is already up-to-date!\n"
     ]
    },
    {
     "data": {
      "text/plain": [
       "True"
      ]
     },
     "execution_count": 488,
     "metadata": {},
     "output_type": "execute_result"
    }
   ],
   "source": [
    "import time\n",
    "import numpy\n",
    "import urllib\n",
    "import scipy.optimize\n",
    "import random\n",
    "from collections import defaultdict\n",
    "from collections import Counter\n",
    "import string\n",
    "from sklearn import linear_model\n",
    "import ast\n",
    "import importlib\n",
    "import numpy as np\n",
    "from scipy.spatial import distance\n",
    "import random\n",
    "import nltk\n",
    "import pandas as pd\n",
    "import matplotlib.pyplot as plt\n",
    "from datetime import datetime\n",
    "from nltk.corpus import stopwords\n",
    "import sklearn\n",
    "\n",
    "nltk.download(\"averaged_perceptron_tagger\")\n",
    "nltk.download('stopwords')"
   ]
  },
  {
   "cell_type": "code",
   "execution_count": 428,
   "metadata": {},
   "outputs": [
    {
     "data": {
      "text/plain": [
       "<module 'as2_plot_utils' from '/Users/Charlie/Documents/Work_School/UCSD/Grad/Fall_2020/CSE258/assignment2/as2_plot_utils.py'>"
      ]
     },
     "execution_count": 428,
     "metadata": {},
     "output_type": "execute_result"
    }
   ],
   "source": [
    "import as2_analysis_utils as as2_analysis\n",
    "import as2_plot_utils as as2_plot\n",
    "importlib.reload(as2_analysis)\n",
    "importlib.reload(as2_plot)"
   ]
  },
  {
   "cell_type": "code",
   "execution_count": 101,
   "metadata": {},
   "outputs": [],
   "source": [
    "data_all = list(as2_analysis.parseData_line(\"renttherunway_final_data.json\"))"
   ]
  },
  {
   "cell_type": "code",
   "execution_count": 102,
   "metadata": {},
   "outputs": [],
   "source": [
    "def extract_features(data_all, key):\n",
    "    \"\"\"\n",
    "    return data of particualr key\n",
    "    \"\"\"\n",
    "    return [d[key] for d in data_all]"
   ]
  },
  {
   "cell_type": "code",
   "execution_count": 109,
   "metadata": {},
   "outputs": [],
   "source": [
    "stop_words = [word for word in stopwords.words(\"english\") \n",
    "              if word != \"not\" and \n",
    "              not (\"n'\" in word)]"
   ]
  },
  {
   "cell_type": "markdown",
   "metadata": {},
   "source": [
    " # Count word frequency"
   ]
  },
  {
   "cell_type": "code",
   "execution_count": 110,
   "metadata": {},
   "outputs": [],
   "source": [
    "# top words in fit reviews\n",
    "fit_reviews_all = [\n",
    "    d[\"review_text\"] + \" \" + d[\"review_summary\"] for d in data_all if d[\"fit\"] == \"fit\"\n",
    "]\n",
    "small_reviews_all = [\n",
    "    d[\"review_text\"] + \" \" + d[\"review_summary\"]\n",
    "    for d in data_all\n",
    "    if d[\"fit\"] == \"small\"\n",
    "]\n",
    "large_reviews_all = [\n",
    "    d[\"review_text\"] + \" \" + d[\"review_summary\"]\n",
    "    for d in data_all\n",
    "    if d[\"fit\"] == \"large\"\n",
    "]\n",
    "\n"
   ]
  },
  {
   "cell_type": "code",
   "execution_count": 312,
   "metadata": {},
   "outputs": [],
   "source": [
    "resample_size = np.mean([len(small_reviews_all),len(large_reviews_all)])"
   ]
  },
  {
   "cell_type": "code",
   "execution_count": 315,
   "metadata": {},
   "outputs": [],
   "source": [
    "fit_reviews_all_resample = random.sample(fit_reviews_all,int(resample_size))"
   ]
  },
  {
   "cell_type": "code",
   "execution_count": 316,
   "metadata": {},
   "outputs": [],
   "source": [
    "def tokenize_data_sets(dataset, n=1):\n",
    "    \"\"\"\n",
    "    Each item of dataset is a str\n",
    "    \"\"\"\n",
    "    return [as2_analysis.tokenize_paragraph(d, n=n,remove_stopwrods=True,stopwords=stop_words) for d in dataset]\n",
    "\n"
   ]
  },
  {
   "cell_type": "code",
   "execution_count": 317,
   "metadata": {},
   "outputs": [],
   "source": [
    "# tokenize dataset\n",
    "fit_tokenized_all = tokenize_data_sets(fit_reviews_all_resample,n=2)\n",
    "small_tokenized_all = tokenize_data_sets(small_reviews_all,n=2)\n",
    "large_tokenized_all = tokenize_data_sets(large_reviews_all,n=2)\n",
    "\n"
   ]
  },
  {
   "cell_type": "code",
   "execution_count": 318,
   "metadata": {},
   "outputs": [],
   "source": [
    "fit_word_count = as2_analysis.count_word_freq(fit_tokenized_all)\n",
    "small_word_count = as2_analysis.count_word_freq(small_tokenized_all)\n",
    "large_word_count = as2_analysis.count_word_freq(large_tokenized_all)\n"
   ]
  },
  {
   "cell_type": "markdown",
   "metadata": {},
   "source": [
    " # Get most frequent adjective"
   ]
  },
  {
   "cell_type": "code",
   "execution_count": 177,
   "metadata": {},
   "outputs": [],
   "source": [
    "def get_adj(word_list):\n",
    "    \"\"\"\n",
    "    return adj from a list of words \n",
    "    \"\"\"\n",
    "    word_list_adj = []\n",
    "    \n",
    "    for word in word_list:\n",
    "        if isinstance(word,str) and nltk.pos_tag([word])[0][1][0] == \"J\":\n",
    "            word_list_adj.append(word)\n",
    "    \n",
    "    return word_list_adj"
   ]
  },
  {
   "cell_type": "code",
   "execution_count": 178,
   "metadata": {},
   "outputs": [],
   "source": [
    "def top_n_adj(word_count_dict):\n",
    "    \"\"\"\n",
    "    only works for unigram\n",
    "    \"\"\"\n",
    "    adj_list = get_adj(word_count_dict.keys())\n",
    "    adj_count = {adj : word_count_dict[adj] for adj in adj_list}\n",
    "    \n",
    "    # sort them into pairs\n",
    "    adj_count_pair = [(count, key) for key, count in adj_count.items()]\n",
    "\n",
    "    # sort\n",
    "    adj_count_pair.sort(reverse=True)\n",
    "\n",
    "    return adj_count_pair"
   ]
  },
  {
   "cell_type": "code",
   "execution_count": 179,
   "metadata": {},
   "outputs": [
    {
     "name": "stdout",
     "output_type": "stream",
     "text": [
      "time consume: 15.15400218963623s\n"
     ]
    }
   ],
   "source": [
    "start = time.time()\n",
    "top_small_adj = top_n_adj(small_word_count)\n",
    "top_fit_adj = top_n_adj(fit_word_count)\n",
    "top_big_adj = top_n_adj(large_word_count)\n",
    "\n",
    "\n",
    "end = time.time()\n",
    "print(f\"time consume: {end-start}s\")"
   ]
  },
  {
   "cell_type": "code",
   "execution_count": null,
   "metadata": {},
   "outputs": [],
   "source": []
  },
  {
   "cell_type": "markdown",
   "metadata": {},
   "source": [
    " Try bigram and trigram"
   ]
  },
  {
   "cell_type": "code",
   "execution_count": 159,
   "metadata": {},
   "outputs": [],
   "source": [
    "def top_n_adj_n_gram(word_count_dict):\n",
    "\n",
    "    ## get the most common ajectives\n",
    "    adj_count = {\n",
    "        key: word_count_dict[key]\n",
    "        for key in word_count_dict\n",
    "        # if either of the word is an adj, preserve\n",
    "        if any(\n",
    "            wordType[0] == \"J\"\n",
    "            for _, wordType in nltk.pos_tag(key if type(key) == tuple else (key,))\n",
    "        )\n",
    "    }\n",
    "\n",
    "    # sort them into pairs\n",
    "    adj_count_pair = list(adj_count.items())\n",
    "\n",
    "    # # sort\n",
    "    adj_count_pair.sort(reverse=True, key=lambda x: x[1])\n",
    "\n",
    "    return adj_count_pair\n",
    "\n"
   ]
  },
  {
   "cell_type": "code",
   "execution_count": 187,
   "metadata": {},
   "outputs": [],
   "source": [
    "def top_adj_pipeline(fit_word_count, small_word_count, large_word_count):\n",
    "\n",
    "    start = time.time()\n",
    "    top_fit_grams = top_n_adj_n_gram(fit_word_count)\n",
    "    top_small_grams = top_n_adj_n_gram(small_word_count)\n",
    "    top_large_grams = top_n_adj_n_gram(large_word_count)\n",
    "    end = time.time()\n",
    "    print(f\"time consume: {end-start}s\")\n",
    "    return top_fit_grams, top_small_grams, top_large_grams\n",
    "\n"
   ]
  },
  {
   "cell_type": "code",
   "execution_count": 319,
   "metadata": {},
   "outputs": [
    {
     "name": "stdout",
     "output_type": "stream",
     "text": [
      "time consume: 206.87134909629822s\n"
     ]
    }
   ],
   "source": [
    "top_fit_grams, top_small_grams, top_large_grams = top_adj_pipeline(fit_word_count,\n",
    "                                                                   small_word_count,\n",
    "                                                                   large_word_count)"
   ]
  },
  {
   "cell_type": "code",
   "execution_count": 320,
   "metadata": {},
   "outputs": [],
   "source": [
    "bigrams_common = as2_analysis.count_word_freq(fit_tokenized_all + small_tokenized_all + large_tokenized_all)"
   ]
  },
  {
   "cell_type": "code",
   "execution_count": 321,
   "metadata": {},
   "outputs": [],
   "source": [
    "def intersection_fit_small_large(fit_top, small_top, large_top, world_count_all,index=0):\n",
    "    \"\"\"\n",
    "    Find the intersection between top ngrams from each set\n",
    "    \"\"\"\n",
    "    fit_ngram = [item[index] for item in fit_top]\n",
    "    small_ngram = [item[index] for item in small_top]\n",
    "    large_ngram = [item[index] for item in large_top]\n",
    "    \n",
    "    intersection = set.intersection(set(fit_ngram),set(small_ngram),set(large_ngram))\n",
    "    return_tuple = [(world_count_all[item],item) for item in intersection]\n",
    "    return_tuple.sort(reverse=True)\n",
    "#     return return_tuple.sort(reverse=True)\n",
    "    return fit_ngram, small_ngram, large_ngram, return_tuple"
   ]
  },
  {
   "cell_type": "code",
   "execution_count": 460,
   "metadata": {},
   "outputs": [],
   "source": [
    "fit_ngram, small_ngram, large_ngram,top_common_ngram = intersection_fit_small_large(top_fit_grams[:300], \n",
    "                                                top_small_grams[:300], \n",
    "                                                top_large_grams[:300], \n",
    "                                                bigrams_common,\n",
    "                                                0)"
   ]
  },
  {
   "cell_type": "code",
   "execution_count": 461,
   "metadata": {},
   "outputs": [],
   "source": [
    "def generate_gram_id(fit_ngram):\n",
    "    n_grams = len(fit_ngram)\n",
    "    return dict(zip(fit_ngram, range(n_grams)))"
   ]
  },
  {
   "cell_type": "code",
   "execution_count": 462,
   "metadata": {},
   "outputs": [],
   "source": [
    "fit_gramID = generate_gram_id(fit_ngram)\n",
    "small_gramID = generate_gram_id(small_ngram)\n",
    "large_gramID = generate_gram_id(large_ngram)"
   ]
  },
  {
   "cell_type": "code",
   "execution_count": 463,
   "metadata": {},
   "outputs": [],
   "source": [
    "def generate_top_unigrams(top_unigram_pair,index=1,top_n=500):\n",
    "    top_grams = [item[index] for item in top_unigram_pair[:top_n]]\n",
    "    top_grams_id = dict(zip(top_grams,range(len(top_grams))))\n",
    "    \n",
    "    return top_grams, top_grams_id"
   ]
  },
  {
   "cell_type": "code",
   "execution_count": 466,
   "metadata": {},
   "outputs": [],
   "source": [
    "top_fit_unit, top_fit_uniID = generate_top_unigrams(top_fit_adj,index=1,top_n=300)\n",
    "top_small_unit, top_small_uniID = generate_top_unigrams(top_small_adj,index=1,top_n=300)\n",
    "top_large_unit, top_large_uniID = generate_top_unigrams(top_big_adj,index=1,top_n=300)"
   ]
  },
  {
   "cell_type": "markdown",
   "metadata": {},
   "source": [
    " # Data Prediction"
   ]
  },
  {
   "cell_type": "markdown",
   "metadata": {},
   "source": [
    "## Get data"
   ]
  },
  {
   "cell_type": "code",
   "execution_count": 347,
   "metadata": {},
   "outputs": [],
   "source": [
    "data_fit = [d for d in data_all if d[\"fit\"]==\"fit\"]\n",
    "data_small = [d for d in data_all if d[\"fit\"]==\"small\"]\n",
    "data_large = [d for d in data_all if d[\"fit\"]==\"large\"]"
   ]
  },
  {
   "cell_type": "code",
   "execution_count": 348,
   "metadata": {},
   "outputs": [],
   "source": [
    "data_balance = data_small + data_large + random.sample(data_fit,int(resample_size))"
   ]
  },
  {
   "cell_type": "code",
   "execution_count": 349,
   "metadata": {},
   "outputs": [],
   "source": [
    "random.shuffle(data_balance)"
   ]
  },
  {
   "cell_type": "code",
   "execution_count": 350,
   "metadata": {},
   "outputs": [],
   "source": [
    "data_size = len(data_balance)\n",
    "valid_percent = 0.2\n",
    "test_percent = 0.2\n"
   ]
  },
  {
   "cell_type": "code",
   "execution_count": 352,
   "metadata": {},
   "outputs": [],
   "source": [
    "data_train = data_balance[: int(data_size * (1 - valid_percent - test_percent))]\n",
    "data_valid = data_balance[\n",
    "    int(data_size * (1 - valid_percent - test_percent)) : int(\n",
    "        data_size * (1 - test_percent)\n",
    "    )\n",
    "]\n",
    "data_test = data_balance[int(data_size * (1 - test_percent)) :]"
   ]
  },
  {
   "cell_type": "markdown",
   "metadata": {},
   "source": [
    "##  Try n-gram BoW logistic regression"
   ]
  },
  {
   "cell_type": "code",
   "execution_count": 372,
   "metadata": {},
   "outputs": [
    {
     "data": {
      "text/plain": [
       "500"
      ]
     },
     "execution_count": 372,
     "metadata": {},
     "output_type": "execute_result"
    }
   ],
   "source": [
    "len(top_fit_gram_freq)"
   ]
  },
  {
   "cell_type": "code",
   "execution_count": 517,
   "metadata": {},
   "outputs": [],
   "source": [
    "def feature_per_category(p_list, ngram_set, ngram_ID):\n",
    "    feat = np.zeros(len(ngram_ID))\n",
    "    \n",
    "    for word in p_list:\n",
    "        if word in ngram_set:\n",
    "#             df = p_list.count(word)\n",
    "#             feat[ngram_ID[word]] = df * top_gram_freq[word]\n",
    "            feat[ngram_ID[word]] += 1\n",
    "#     print(feat.shape)\n",
    "    return feat"
   ]
  },
  {
   "cell_type": "code",
   "execution_count": 475,
   "metadata": {},
   "outputs": [],
   "source": [
    "def feature_ngram(d,n, fitID, smallID, largeID):\n",
    "    \"\"\"\n",
    "    create features using bigram\n",
    "    \"\"\"\n",
    "    review = d[\"review_text\"] + \" \" + d[\"review_summary\"]\n",
    "    p_list = as2_analysis.tokenize_paragraph(review, n=n,remove_stopwrods=True,stopwords=stop_words)\n",
    "    \n",
    "    # get features for fit\n",
    "    feat_fit = feature_per_category(p_list,fitID)\n",
    "    \n",
    "    # get features for small\n",
    "    feat_small = feature_per_category(p_list,smallID)\n",
    "       \n",
    "    # get feature for large\n",
    "    feat_large = feature_per_category(p_list,largeID)\n",
    "    \n",
    "    return np.concatenate((feat_fit,feat_small,feat_large))\n"
   ]
  },
  {
   "cell_type": "code",
   "execution_count": 476,
   "metadata": {},
   "outputs": [],
   "source": [
    "def encode_output(data):\n",
    "    return [0 if d[\"fit\"] == \"fit\" else 1 if d[\"fit\"] == \"small\" else 2 for d in data]"
   ]
  },
  {
   "cell_type": "code",
   "execution_count": 478,
   "metadata": {},
   "outputs": [],
   "source": [
    "FIT = 0\n",
    "SMALL = 1\n",
    "BIG = 2\n",
    "X_train = [np.append(feature_ngram(d, 2, fit_gramID, small_gramID, large_gramID),\n",
    "                     feature_ngram(d, 1, top_fit_uniID, top_small_uniID, top_large_uniID))\n",
    "                     for d in data_train]                     \n",
    "y_train = encode_output(data_train)\n",
    "\n",
    "# validation data\n",
    "X_valid = [np.append(feature_ngram(d, 2, fit_gramID, small_gramID, large_gramID),\n",
    "                     feature_ngram(d, 1, top_fit_uniID, top_small_uniID, top_large_uniID))\n",
    "                     for d in data_valid]\n",
    "y_valid = encode_output(data_valid)\n"
   ]
  },
  {
   "cell_type": "code",
   "execution_count": 482,
   "metadata": {},
   "outputs": [],
   "source": [
    "model = linear_model.LogisticRegression(C=2)"
   ]
  },
  {
   "cell_type": "code",
   "execution_count": 489,
   "metadata": {},
   "outputs": [],
   "source": [
    "from sklearn.decomposition import TruncatedSVD"
   ]
  },
  {
   "cell_type": "code",
   "execution_count": 513,
   "metadata": {},
   "outputs": [],
   "source": [
    "svd = TruncatedSVD(n_components=50)\n",
    "x_train_new = svd.fit_transform(X_train)\n",
    "x_val_new = svd.transform(X_valid)"
   ]
  },
  {
   "cell_type": "code",
   "execution_count": 514,
   "metadata": {},
   "outputs": [],
   "source": [
    "from sklearn.svm import LinearSVC\n",
    "svc = LinearSVC(C=0.01)\n",
    "svc.fit(x_train_new, y_train)\n",
    "y_pred_svc = svc.predict(x_val_new)"
   ]
  },
  {
   "cell_type": "code",
   "execution_count": 510,
   "metadata": {},
   "outputs": [
    {
     "name": "stderr",
     "output_type": "stream",
     "text": [
      "/Users/Charlie/opt/anaconda3/lib/python3.8/site-packages/sklearn/linear_model/_logistic.py:762: ConvergenceWarning: lbfgs failed to converge (status=1):\n",
      "STOP: TOTAL NO. of ITERATIONS REACHED LIMIT.\n",
      "\n",
      "Increase the number of iterations (max_iter) or scale the data as shown in:\n",
      "    https://scikit-learn.org/stable/modules/preprocessing.html\n",
      "Please also refer to the documentation for alternative solver options:\n",
      "    https://scikit-learn.org/stable/modules/linear_model.html#logistic-regression\n",
      "  n_iter_i = _check_optimize_result(\n"
     ]
    }
   ],
   "source": [
    "model.fit(x_train_new, y_train)\n",
    "y_pred = model.predict(x_val_new)"
   ]
  },
  {
   "cell_type": "code",
   "execution_count": 515,
   "metadata": {},
   "outputs": [],
   "source": [
    "val_cm = as2_analysis.compute_confusion_matrix(y_valid,y_pred_svc,normalized=True)"
   ]
  },
  {
   "cell_type": "code",
   "execution_count": 516,
   "metadata": {},
   "outputs": [
    {
     "data": {
      "image/png": "[encoded data removed]",
      "text/plain": [
       "<Figure size 360x360 with 1 Axes>"
      ]
     },
     "metadata": {
      "needs_background": "light"
     },
     "output_type": "display_data"
    }
   ],
   "source": [
    "as2_plot.plot_cm(val_cm, [\"fit\",\"small\",\"big\"])"
   ]
  },
  {
   "cell_type": "code",
   "execution_count": null,
   "metadata": {},
   "outputs": [],
   "source": []
  }
 ],
 "metadata": {
  "kernelspec": {
   "display_name": "Python 3",
   "language": "python",
   "name": "python3"
  },
  "language_info": {
   "codemirror_mode": {
    "name": "ipython",
    "version": 3
   },
   "file_extension": ".py",
   "mimetype": "text/x-python",
   "name": "python",
   "nbconvert_exporter": "python",
   "pygments_lexer": "ipython3",
   "version": "3.8.3"
  }
 },
 "nbformat": 4,
 "nbformat_minor": 2
}
