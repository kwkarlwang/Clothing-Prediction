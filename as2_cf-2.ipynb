{
 "cells": [
  {
   "cell_type": "code",
   "execution_count": 10,
   "metadata": {},
   "outputs": [
    {
     "name": "stderr",
     "output_type": "stream",
     "text": [
      "[nltk_data] Downloading package averaged_perceptron_tagger to\n",
      "[nltk_data]     /Users/Charlie/nltk_data...\n",
      "[nltk_data]   Package averaged_perceptron_tagger is already up-to-\n",
      "[nltk_data]       date!\n",
      "[nltk_data] Downloading package stopwords to\n",
      "[nltk_data]     /Users/Charlie/nltk_data...\n",
      "[nltk_data]   Package stopwords is already up-to-date!\n"
     ]
    },
    {
     "data": {
      "text/plain": [
       "True"
      ]
     },
     "execution_count": 10,
     "metadata": {},
     "output_type": "execute_result"
    }
   ],
   "source": [
    "import time\n",
    "import numpy\n",
    "import urllib\n",
    "import scipy.optimize\n",
    "import random\n",
    "from collections import defaultdict\n",
    "from collections import Counter\n",
    "import string\n",
    "from sklearn import linear_model\n",
    "import ast\n",
    "import importlib\n",
    "import numpy as np\n",
    "from scipy.spatial import distance\n",
    "import random\n",
    "import nltk\n",
    "import pandas as pd\n",
    "import matplotlib.pyplot as plt\n",
    "from datetime import datetime\n",
    "from nltk.corpus import stopwords\n",
    "import sklearn\n",
    "\n",
    "nltk.download(\"averaged_perceptron_tagger\")\n",
    "nltk.download('stopwords')"
   ]
  },
  {
   "cell_type": "code",
   "execution_count": 11,
   "metadata": {},
   "outputs": [
    {
     "data": {
      "text/plain": [
       "<module 'as2_plot_utils' from '/Users/Charlie/Documents/Work_School/UCSD/Grad/Fall_2020/CSE258/assignment2/as2_plot_utils.py'>"
      ]
     },
     "execution_count": 11,
     "metadata": {},
     "output_type": "execute_result"
    }
   ],
   "source": [
    "import as2_analysis_utils as as2_analysis\n",
    "import as2_plot_utils as as2_plot\n",
    "importlib.reload(as2_analysis)\n",
    "importlib.reload(as2_plot)"
   ]
  },
  {
   "cell_type": "code",
   "execution_count": 12,
   "metadata": {},
   "outputs": [],
   "source": [
    "data_all = list(as2_analysis.parseData_line(\"renttherunway_final_data.json\"))"
   ]
  },
  {
   "cell_type": "code",
   "execution_count": 13,
   "metadata": {},
   "outputs": [],
   "source": [
    "def extract_features(data_all, key):\n",
    "    \"\"\"\n",
    "    return data of particualr key\n",
    "    \"\"\"\n",
    "    return [d[key] for d in data_all]"
   ]
  },
  {
   "cell_type": "code",
   "execution_count": 14,
   "metadata": {},
   "outputs": [],
   "source": [
    "stop_words = [word for word in stopwords.words(\"english\") \n",
    "              if word != \"not\" and \n",
    "              not (\"n'\" in word)]"
   ]
  },
  {
   "cell_type": "markdown",
   "metadata": {},
   "source": [
    " # Count word frequency"
   ]
  },
  {
   "cell_type": "code",
   "execution_count": 15,
   "metadata": {},
   "outputs": [],
   "source": [
    "# top words in fit reviews\n",
    "fit_reviews_all = [\n",
    "    d[\"review_text\"] + \" \" + d[\"review_summary\"] for d in data_all if d[\"fit\"] == \"fit\"\n",
    "]\n",
    "small_reviews_all = [\n",
    "    d[\"review_text\"] + \" \" + d[\"review_summary\"]\n",
    "    for d in data_all\n",
    "    if d[\"fit\"] == \"small\"\n",
    "]\n",
    "large_reviews_all = [\n",
    "    d[\"review_text\"] + \" \" + d[\"review_summary\"]\n",
    "    for d in data_all\n",
    "    if d[\"fit\"] == \"large\"\n",
    "]\n",
    "\n"
   ]
  },
  {
   "cell_type": "code",
   "execution_count": 16,
   "metadata": {},
   "outputs": [],
   "source": [
    "resample_size = np.mean([len(small_reviews_all),len(large_reviews_all)])"
   ]
  },
  {
   "cell_type": "code",
   "execution_count": 17,
   "metadata": {},
   "outputs": [],
   "source": [
    "fit_reviews_all_resample = random.sample(fit_reviews_all,int(resample_size))"
   ]
  },
  {
   "cell_type": "code",
   "execution_count": 18,
   "metadata": {},
   "outputs": [],
   "source": [
    "def tokenize_data_sets(dataset, n=1):\n",
    "    \"\"\"\n",
    "    Each item of dataset is a str\n",
    "    \"\"\"\n",
    "    return [as2_analysis.tokenize_paragraph(d, n=n,remove_stopwrods=True,stopwords=stop_words) for d in dataset]\n",
    "\n"
   ]
  },
  {
   "cell_type": "code",
   "execution_count": 41,
   "metadata": {},
   "outputs": [],
   "source": [
    "# tokenize dataset\n",
    "fit_tokenized_all = tokenize_data_sets(fit_reviews_all_resample,n=1)\n",
    "small_tokenized_all = tokenize_data_sets(small_reviews_all,n=1)\n",
    "large_tokenized_all = tokenize_data_sets(large_reviews_all,n=1)\n",
    "\n"
   ]
  },
  {
   "cell_type": "code",
   "execution_count": 42,
   "metadata": {},
   "outputs": [],
   "source": [
    "fit_word_count = as2_analysis.count_word_freq(fit_tokenized_all)\n",
    "small_word_count = as2_analysis.count_word_freq(small_tokenized_all)\n",
    "large_word_count = as2_analysis.count_word_freq(large_tokenized_all)\n"
   ]
  },
  {
   "cell_type": "markdown",
   "metadata": {},
   "source": [
    " # Get most frequent adjective"
   ]
  },
  {
   "cell_type": "code",
   "execution_count": 43,
   "metadata": {},
   "outputs": [],
   "source": [
    "def get_adj(word_list):\n",
    "    \"\"\"\n",
    "    return adj from a list of words \n",
    "    \"\"\"\n",
    "    word_list_adj = []\n",
    "    \n",
    "    for word in word_list:\n",
    "        if isinstance(word,str) and nltk.pos_tag([word])[0][1][0] == \"J\":\n",
    "            word_list_adj.append(word)\n",
    "    \n",
    "    return word_list_adj"
   ]
  },
  {
   "cell_type": "code",
   "execution_count": 44,
   "metadata": {},
   "outputs": [],
   "source": [
    "def top_n_adj(word_count_dict):\n",
    "    \"\"\"\n",
    "    only works for unigram\n",
    "    \"\"\"\n",
    "    adj_list = get_adj(word_count_dict.keys())\n",
    "    adj_count = {adj : word_count_dict[adj] for adj in adj_list}\n",
    "    \n",
    "    # sort them into pairs\n",
    "    adj_count_pair = [(count, key) for key, count in adj_count.items()]\n",
    "\n",
    "    # sort\n",
    "    adj_count_pair.sort(reverse=True)\n",
    "\n",
    "    return adj_count_pair"
   ]
  },
  {
   "cell_type": "code",
   "execution_count": 45,
   "metadata": {},
   "outputs": [
    {
     "name": "stdout",
     "output_type": "stream",
     "text": [
      "time consume: 9.211933851242065s\n"
     ]
    }
   ],
   "source": [
    "start = time.time()\n",
    "top_small_adj = top_n_adj(small_word_count)\n",
    "top_fit_adj = top_n_adj(fit_word_count)\n",
    "top_big_adj = top_n_adj(large_word_count)\n",
    "\n",
    "\n",
    "end = time.time()\n",
    "print(f\"time consume: {end-start}s\")"
   ]
  },
  {
   "cell_type": "code",
   "execution_count": null,
   "metadata": {},
   "outputs": [],
   "source": []
  },
  {
   "cell_type": "markdown",
   "metadata": {},
   "source": [
    " Try bigram and trigram"
   ]
  },
  {
   "cell_type": "code",
   "execution_count": 24,
   "metadata": {},
   "outputs": [],
   "source": [
    "def top_n_adj_n_gram(word_count_dict):\n",
    "\n",
    "    ## get the most common ajectives\n",
    "    adj_count = {\n",
    "        key: word_count_dict[key]\n",
    "        for key in word_count_dict\n",
    "        # if either of the word is an adj, preserve\n",
    "        if any(\n",
    "            wordType[0] == \"J\"\n",
    "            for _, wordType in nltk.pos_tag(key if type(key) == tuple else (key,))\n",
    "        )\n",
    "    }\n",
    "\n",
    "    # sort them into pairs\n",
    "    adj_count_pair = list(adj_count.items())\n",
    "\n",
    "    # # sort\n",
    "    adj_count_pair.sort(reverse=True, key=lambda x: x[1])\n",
    "\n",
    "    return adj_count_pair\n",
    "\n"
   ]
  },
  {
   "cell_type": "code",
   "execution_count": 25,
   "metadata": {},
   "outputs": [],
   "source": [
    "def top_adj_pipeline(fit_word_count, small_word_count, large_word_count):\n",
    "\n",
    "    start = time.time()\n",
    "    top_fit_grams = top_n_adj_n_gram(fit_word_count)\n",
    "    top_small_grams = top_n_adj_n_gram(small_word_count)\n",
    "    top_large_grams = top_n_adj_n_gram(large_word_count)\n",
    "    end = time.time()\n",
    "    print(f\"time consume: {end-start}s\")\n",
    "    return top_fit_grams, top_small_grams, top_large_grams\n",
    "\n"
   ]
  },
  {
   "cell_type": "code",
   "execution_count": 26,
   "metadata": {},
   "outputs": [
    {
     "name": "stdout",
     "output_type": "stream",
     "text": [
      "time consume: 223.83546805381775s\n"
     ]
    }
   ],
   "source": [
    "top_fit_grams, top_small_grams, top_large_grams = top_adj_pipeline(fit_word_count,\n",
    "                                                                   small_word_count,\n",
    "                                                                   large_word_count)"
   ]
  },
  {
   "cell_type": "code",
   "execution_count": 27,
   "metadata": {},
   "outputs": [],
   "source": [
    "bigrams_common = as2_analysis.count_word_freq(fit_tokenized_all + small_tokenized_all + large_tokenized_all)"
   ]
  },
  {
   "cell_type": "code",
   "execution_count": 28,
   "metadata": {},
   "outputs": [],
   "source": [
    "def intersection_fit_small_large(fit_top, small_top, large_top, world_count_all,index=0):\n",
    "    \"\"\"\n",
    "    Find the intersection between top ngrams from each set\n",
    "    \"\"\"\n",
    "    fit_ngram = [item[index] for item in fit_top]\n",
    "    small_ngram = [item[index] for item in small_top]\n",
    "    large_ngram = [item[index] for item in large_top]\n",
    "    \n",
    "    intersection = set.intersection(set(fit_ngram),set(small_ngram),set(large_ngram))\n",
    "    return_tuple = [(world_count_all[item],item) for item in intersection]\n",
    "    return_tuple.sort(reverse=True)\n",
    "#     return return_tuple.sort(reverse=True)\n",
    "    return fit_ngram, small_ngram, large_ngram, return_tuple"
   ]
  },
  {
   "cell_type": "code",
   "execution_count": 29,
   "metadata": {},
   "outputs": [],
   "source": [
    "fit_ngram, small_ngram, large_ngram,top_common_ngram = intersection_fit_small_large(top_fit_grams[:300], \n",
    "                                                top_small_grams[:300], \n",
    "                                                top_large_grams[:300], \n",
    "                                                bigrams_common,\n",
    "                                                0)"
   ]
  },
  {
   "cell_type": "code",
   "execution_count": 30,
   "metadata": {},
   "outputs": [],
   "source": [
    "def generate_gram_id(fit_ngram):\n",
    "    n_grams = len(fit_ngram)\n",
    "    return dict(zip(fit_ngram, range(n_grams)))"
   ]
  },
  {
   "cell_type": "code",
   "execution_count": 31,
   "metadata": {},
   "outputs": [],
   "source": [
    "fit_gramID = generate_gram_id(fit_ngram)\n",
    "small_gramID = generate_gram_id(small_ngram)\n",
    "large_gramID = generate_gram_id(large_ngram)"
   ]
  },
  {
   "cell_type": "code",
   "execution_count": 32,
   "metadata": {},
   "outputs": [],
   "source": [
    "def generate_top_unigrams(top_unigram_pair,index=1,top_n=500):\n",
    "    top_grams = [item[index] for item in top_unigram_pair[:top_n]]\n",
    "    top_grams_id = dict(zip(top_grams,range(len(top_grams))))\n",
    "    \n",
    "    return top_grams, top_grams_id"
   ]
  },
  {
   "cell_type": "code",
   "execution_count": 46,
   "metadata": {},
   "outputs": [],
   "source": [
    "top_fit_unit, top_fit_uniID = generate_top_unigrams(top_fit_adj,index=1,top_n=300)\n",
    "top_small_unit, top_small_uniID = generate_top_unigrams(top_small_adj,index=1,top_n=300)\n",
    "top_large_unit, top_large_uniID = generate_top_unigrams(top_big_adj,index=1,top_n=300)"
   ]
  },
  {
   "cell_type": "code",
   "execution_count": 47,
   "metadata": {},
   "outputs": [
    {
     "data": {
      "text/plain": [
       "['great',\n",
       " 'comfortable',\n",
       " 'little',\n",
       " 'many',\n",
       " 'true',\n",
       " 'short',\n",
       " 'black',\n",
       " 'gorgeous',\n",
       " 'much',\n",
       " 'nice',\n",
       " 'overall',\n",
       " 'small',\n",
       " 'easy',\n",
       " 'good',\n",
       " 'big',\n",
       " 'formal',\n",
       " 'able',\n",
       " 'regular',\n",
       " 'high',\n",
       " 'large',\n",
       " 'low',\n",
       " 'loose',\n",
       " 'best',\n",
       " 'heavy',\n",
       " 'different',\n",
       " 'red',\n",
       " 'larger',\n",
       " 'smaller',\n",
       " 'casual',\n",
       " 'worried',\n",
       " 'white',\n",
       " 'classic',\n",
       " 'ive',\n",
       " 'hot',\n",
       " 'happy',\n",
       " 'extra',\n",
       " 'hard',\n",
       " 'open',\n",
       " 'full',\n",
       " 'uncomfortable',\n",
       " 'normal',\n",
       " 'conservative',\n",
       " 'available',\n",
       " 'new',\n",
       " 'fabulous',\n",
       " 'due',\n",
       " 'next',\n",
       " 'bigger',\n",
       " 'soft',\n",
       " 'difficult',\n",
       " 'fantastic',\n",
       " 'chic',\n",
       " 'special',\n",
       " 'second',\n",
       " 'glamorous',\n",
       " 'bad',\n",
       " 'several',\n",
       " 'last',\n",
       " 'nervous',\n",
       " 'noticeable',\n",
       " 'whole',\n",
       " 'sophisticated',\n",
       " 'flat',\n",
       " 'lower',\n",
       " 'tiny',\n",
       " 'huge',\n",
       " 'wide',\n",
       " 'unlimited',\n",
       " 'professional',\n",
       " 'adorable',\n",
       " 'original',\n",
       " 'entire',\n",
       " 'athletic',\n",
       " 'green',\n",
       " 'higher',\n",
       " 'usual',\n",
       " 'surprised',\n",
       " 'old',\n",
       " 'modest',\n",
       " 'concerned',\n",
       " 'incredible',\n",
       " 'pleased',\n",
       " 'real',\n",
       " 'broad',\n",
       " 'wrong',\n",
       " 'least',\n",
       " 'optional',\n",
       " 'upper',\n",
       " 'rich',\n",
       " 'natural',\n",
       " 'disappointed',\n",
       " 'tough',\n",
       " 'ready',\n",
       " 'conscious',\n",
       " 'similar',\n",
       " 'negative',\n",
       " 'strappy',\n",
       " 'prepared',\n",
       " 'floral',\n",
       " 'necessary',\n",
       " 'previous',\n",
       " 'modern',\n",
       " 'military',\n",
       " 'unavailable',\n",
       " 'typical',\n",
       " 'likely',\n",
       " 'free',\n",
       " 'elastic',\n",
       " 'expensive',\n",
       " 'aware',\n",
       " 'senior',\n",
       " 'visible',\n",
       " 'average',\n",
       " 'underwear',\n",
       " 'impressed',\n",
       " 'adjustable',\n",
       " 'complete',\n",
       " 'basic',\n",
       " 'breathable',\n",
       " 'major',\n",
       " 'unforgettable',\n",
       " 'numerous',\n",
       " 'total',\n",
       " 'solid',\n",
       " 'festive',\n",
       " 'actual',\n",
       " 'possible',\n",
       " 'understated',\n",
       " 'easier',\n",
       " 'particular',\n",
       " 'important',\n",
       " 'clear',\n",
       " 'safe',\n",
       " 'dramatic',\n",
       " 'adhesive',\n",
       " 'luxurious',\n",
       " 'impossible',\n",
       " 'certain',\n",
       " 'substantial',\n",
       " 'fashionable',\n",
       " 'obvious',\n",
       " 'unexpected',\n",
       " 'selfconscious',\n",
       " 'arrive',\n",
       " 'young',\n",
       " 'coral',\n",
       " 'unable',\n",
       " 'terrible',\n",
       " 'asymmetrical',\n",
       " 'live',\n",
       " 'traditional',\n",
       " 'wearable',\n",
       " 'single',\n",
       " 'main',\n",
       " 'detailed',\n",
       " 'biggest',\n",
       " 'unusual',\n",
       " 'general',\n",
       " 'strong',\n",
       " 'memorable',\n",
       " 'busy',\n",
       " 'skeptical',\n",
       " 'hippy',\n",
       " 'romantic',\n",
       " 'positive',\n",
       " 'manageable',\n",
       " 'fresh',\n",
       " 'smallest',\n",
       " 'personal',\n",
       " 'southern',\n",
       " 'flexible',\n",
       " '40th',\n",
       " 'serious',\n",
       " 'attractive',\n",
       " 'annual',\n",
       " 'third',\n",
       " 'satisfied',\n",
       " 'limited',\n",
       " 'local',\n",
       " 'irritated',\n",
       " 'february',\n",
       " 'social',\n",
       " 'outstanding',\n",
       " 'neutral',\n",
       " 'additional',\n",
       " 'sharp',\n",
       " 'separate',\n",
       " 'popular',\n",
       " 'lucky',\n",
       " 'corporate',\n",
       " 'unbearable',\n",
       " 'scandalous',\n",
       " 'generous',\n",
       " 'worse',\n",
       " 'sensitive',\n",
       " 'older',\n",
       " 'horrible',\n",
       " 'highest',\n",
       " 'functional',\n",
       " 'younger',\n",
       " 'practical',\n",
       " 'creative',\n",
       " 'upscale',\n",
       " 'suitable',\n",
       " 'sloppy',\n",
       " 'married',\n",
       " 'glamourous',\n",
       " 'wary',\n",
       " 'various',\n",
       " 'temporary',\n",
       " 'obnoxious',\n",
       " 'mixed',\n",
       " 'funeral',\n",
       " 'common',\n",
       " 'unbelievable',\n",
       " 'olive',\n",
       " 'golden',\n",
       " 'easiest',\n",
       " 'dead',\n",
       " 'worst',\n",
       " 'unzipped',\n",
       " 'significant',\n",
       " 'initial',\n",
       " 'impeccable',\n",
       " 'cautious',\n",
       " 'tropical',\n",
       " 'static',\n",
       " 'recent',\n",
       " 'constant',\n",
       " 'bubble',\n",
       " 'successful',\n",
       " 'pouch',\n",
       " 'magical',\n",
       " 'impressive',\n",
       " 'experienced',\n",
       " 'exceptional',\n",
       " 'durable',\n",
       " 'unlined',\n",
       " 'problematic',\n",
       " 'potential',\n",
       " 'doable',\n",
       " 'updown',\n",
       " 'ensemble',\n",
       " 'current',\n",
       " 'atlantic',\n",
       " 'american',\n",
       " '50th',\n",
       " 'willing',\n",
       " 'voluminous',\n",
       " 'ultra',\n",
       " 'ridiculous',\n",
       " 'preppy',\n",
       " 'convertible',\n",
       " 'contemporary',\n",
       " 'acceptable',\n",
       " 'transitional',\n",
       " 'specific',\n",
       " 'rustic',\n",
       " 'religious',\n",
       " 'related',\n",
       " 'italian',\n",
       " 'grand',\n",
       " 'french',\n",
       " 'apprehensive',\n",
       " 'weary',\n",
       " 'visual',\n",
       " 'unwearable',\n",
       " 'unwanted',\n",
       " 'poor',\n",
       " 'interested',\n",
       " 'informal',\n",
       " 'indian',\n",
       " 'final',\n",
       " 'whimsical',\n",
       " 'useful',\n",
       " 'polish',\n",
       " 'musical',\n",
       " 'greatest',\n",
       " 'widest',\n",
       " 'vertical',\n",
       " 'unnoticeable',\n",
       " 'nautical',\n",
       " 'medical',\n",
       " 'longest',\n",
       " 'invisible',\n",
       " 'identical',\n",
       " 'hawaiian',\n",
       " 'central',\n",
       " 'affordable',\n",
       " 'underwhelmed',\n",
       " 'unbuttoned',\n",
       " 'removable',\n",
       " 'largest',\n",
       " 'ish',\n",
       " 'enjoyable',\n",
       " 'daily',\n",
       " 'curious',\n",
       " 'confortable',\n",
       " 'workable',\n",
       " 'unnecessary']"
      ]
     },
     "execution_count": 47,
     "metadata": {},
     "output_type": "execute_result"
    }
   ],
   "source": [
    "top_fit_unit"
   ]
  },
  {
   "cell_type": "markdown",
   "metadata": {},
   "source": [
    " # Data Prediction"
   ]
  },
  {
   "cell_type": "markdown",
   "metadata": {},
   "source": [
    "## Get data"
   ]
  },
  {
   "cell_type": "code",
   "execution_count": 49,
   "metadata": {},
   "outputs": [],
   "source": [
    "data_fit = [d for d in data_all if d[\"fit\"]==\"fit\"]\n",
    "data_small = [d for d in data_all if d[\"fit\"]==\"small\"]\n",
    "data_large = [d for d in data_all if d[\"fit\"]==\"large\"]"
   ]
  },
  {
   "cell_type": "code",
   "execution_count": 50,
   "metadata": {},
   "outputs": [],
   "source": [
    "data_balance = data_small + data_large + random.sample(data_fit,int(resample_size))"
   ]
  },
  {
   "cell_type": "code",
   "execution_count": 51,
   "metadata": {},
   "outputs": [],
   "source": [
    "random.shuffle(data_balance)"
   ]
  },
  {
   "cell_type": "code",
   "execution_count": 52,
   "metadata": {},
   "outputs": [],
   "source": [
    "data_size = len(data_balance)\n",
    "valid_percent = 0.2\n",
    "test_percent = 0.2\n"
   ]
  },
  {
   "cell_type": "code",
   "execution_count": 53,
   "metadata": {},
   "outputs": [],
   "source": [
    "data_train = data_balance[: int(data_size * (1 - valid_percent - test_percent))]\n",
    "data_valid = data_balance[\n",
    "    int(data_size * (1 - valid_percent - test_percent)) : int(\n",
    "        data_size * (1 - test_percent)\n",
    "    )\n",
    "]\n",
    "data_test = data_balance[int(data_size * (1 - test_percent)) :]"
   ]
  },
  {
   "cell_type": "markdown",
   "metadata": {},
   "source": [
    "##  Try n-gram BoW logistic regression"
   ]
  },
  {
   "cell_type": "code",
   "execution_count": 54,
   "metadata": {},
   "outputs": [
    {
     "ename": "NameError",
     "evalue": "name 'top_fit_gram_freq' is not defined",
     "output_type": "error",
     "traceback": [
      "\u001b[0;31m---------------------------------------------------------------------------\u001b[0m",
      "\u001b[0;31mNameError\u001b[0m                                 Traceback (most recent call last)",
      "\u001b[0;32m<ipython-input-54-d9be4516735e>\u001b[0m in \u001b[0;36m<module>\u001b[0;34m\u001b[0m\n\u001b[0;32m----> 1\u001b[0;31m \u001b[0mlen\u001b[0m\u001b[0;34m(\u001b[0m\u001b[0mtop_fit_gram_freq\u001b[0m\u001b[0;34m)\u001b[0m\u001b[0;34m\u001b[0m\u001b[0;34m\u001b[0m\u001b[0m\n\u001b[0m",
      "\u001b[0;31mNameError\u001b[0m: name 'top_fit_gram_freq' is not defined"
     ]
    }
   ],
   "source": [
    "len(top_fit_gram_freq)"
   ]
  },
  {
   "cell_type": "code",
   "execution_count": null,
   "metadata": {},
   "outputs": [],
   "source": []
  },
  {
   "cell_type": "code",
   "execution_count": 55,
   "metadata": {},
   "outputs": [],
   "source": [
    "def feature_per_category(p_list, ngram_set, ngram_ID):\n",
    "    feat = np.zeros(len(ngram_ID))\n",
    "    \n",
    "    for word in p_list:\n",
    "        if word in ngram_set:\n",
    "#             df = p_list.count(word)\n",
    "#             feat[ngram_ID[word]] = df * top_gram_freq[word]\n",
    "            feat[ngram_ID[word]] += 1\n",
    "#     print(feat.shape)\n",
    "    return feat"
   ]
  },
  {
   "cell_type": "code",
   "execution_count": 56,
   "metadata": {},
   "outputs": [],
   "source": [
    "def feature_ngram(d,n, fitID, smallID, largeID):\n",
    "    \"\"\"\n",
    "    create features using bigram\n",
    "    \"\"\"\n",
    "    review = d[\"review_text\"] + \" \" + d[\"review_summary\"]\n",
    "    p_list = as2_analysis.tokenize_paragraph(review, n=n,remove_stopwrods=True,stopwords=stop_words)\n",
    "    \n",
    "    # get features for fit\n",
    "    fit_set = set(fitID.keys()) \n",
    "    feat_fit = feature_per_category(p_list,fit_set,fitID)\n",
    "    \n",
    "    # get features for small\n",
    "    small_set = set(smallID.keys())\n",
    "    feat_small = feature_per_category(p_list,small_set, smallID)\n",
    "       \n",
    "    # get feature for large\n",
    "    large_set = set(largeID.keys())\n",
    "    feat_large = feature_per_category(p_list,large_set,largeID)\n",
    "    \n",
    "    return np.concatenate((feat_fit,feat_small,feat_large))\n"
   ]
  },
  {
   "cell_type": "code",
   "execution_count": 57,
   "metadata": {},
   "outputs": [],
   "source": [
    "def encode_output(data):\n",
    "    return [0 if d[\"fit\"] == \"fit\" else 1 if d[\"fit\"] == \"small\" else 2 for d in data]"
   ]
  },
  {
   "cell_type": "code",
   "execution_count": 58,
   "metadata": {},
   "outputs": [],
   "source": [
    "FIT = 0\n",
    "SMALL = 1\n",
    "BIG = 2\n",
    "X_train = [np.append(feature_ngram(d, 2, fit_gramID, small_gramID, large_gramID),\n",
    "                     feature_ngram(d, 1, top_fit_uniID, top_small_uniID, top_large_uniID))\n",
    "                     for d in data_train]                     \n",
    "y_train = encode_output(data_train)\n",
    "\n",
    "# validation data\n",
    "X_valid = [np.append(feature_ngram(d, 2, fit_gramID, small_gramID, large_gramID),\n",
    "                     feature_ngram(d, 1, top_fit_uniID, top_small_uniID, top_large_uniID))\n",
    "                     for d in data_valid]\n",
    "y_valid = encode_output(data_valid)\n"
   ]
  },
  {
   "cell_type": "code",
   "execution_count": 63,
   "metadata": {},
   "outputs": [],
   "source": [
    "from sklearn.decomposition import TruncatedSVD"
   ]
  },
  {
   "cell_type": "code",
   "execution_count": 64,
   "metadata": {},
   "outputs": [],
   "source": [
    "svd = TruncatedSVD(n_components=500)\n",
    "x_train_new = svd.fit_transform(X_train)\n",
    "x_val_new = svd.transform(X_valid)"
   ]
  },
  {
   "cell_type": "code",
   "execution_count": 65,
   "metadata": {},
   "outputs": [],
   "source": [
    "from sklearn.svm import LinearSVC\n",
    "svc = LinearSVC(C=0.01)\n",
    "svc.fit(x_train_new, y_train)\n",
    "y_pred_svc = svc.predict(x_val_new)"
   ]
  },
  {
   "cell_type": "code",
   "execution_count": 66,
   "metadata": {},
   "outputs": [],
   "source": [
    "from sklearn.naive_bayes import MultinomialNB"
   ]
  },
  {
   "cell_type": "code",
   "execution_count": 67,
   "metadata": {},
   "outputs": [],
   "source": [
    "model_nb = MultinomialNB()\n",
    "model_nb.fit(X_train,y_train)\n",
    "y_pred_nb = model_nb.predict(X_valid)"
   ]
  },
  {
   "cell_type": "code",
   "execution_count": 74,
   "metadata": {},
   "outputs": [],
   "source": [
    "model = linear_model.LogisticRegression(C=3)"
   ]
  },
  {
   "cell_type": "code",
   "execution_count": 69,
   "metadata": {},
   "outputs": [
    {
     "name": "stderr",
     "output_type": "stream",
     "text": [
      "/Users/Charlie/opt/anaconda3/envs/cse258/lib/python3.8/site-packages/sklearn/linear_model/_logistic.py:762: ConvergenceWarning: lbfgs failed to converge (status=1):\n",
      "STOP: TOTAL NO. of ITERATIONS REACHED LIMIT.\n",
      "\n",
      "Increase the number of iterations (max_iter) or scale the data as shown in:\n",
      "    https://scikit-learn.org/stable/modules/preprocessing.html\n",
      "Please also refer to the documentation for alternative solver options:\n",
      "    https://scikit-learn.org/stable/modules/linear_model.html#logistic-regression\n",
      "  n_iter_i = _check_optimize_result(\n"
     ]
    }
   ],
   "source": [
    "model.fit(x_train_new, y_train)\n",
    "y_pred = model.predict(x_val_new)"
   ]
  },
  {
   "cell_type": "code",
   "execution_count": 75,
   "metadata": {},
   "outputs": [
    {
     "name": "stderr",
     "output_type": "stream",
     "text": [
      "/Users/Charlie/opt/anaconda3/envs/cse258/lib/python3.8/site-packages/sklearn/linear_model/_logistic.py:762: ConvergenceWarning: lbfgs failed to converge (status=1):\n",
      "STOP: TOTAL NO. of ITERATIONS REACHED LIMIT.\n",
      "\n",
      "Increase the number of iterations (max_iter) or scale the data as shown in:\n",
      "    https://scikit-learn.org/stable/modules/preprocessing.html\n",
      "Please also refer to the documentation for alternative solver options:\n",
      "    https://scikit-learn.org/stable/modules/linear_model.html#logistic-regression\n",
      "  n_iter_i = _check_optimize_result(\n",
      "/Users/Charlie/opt/anaconda3/envs/cse258/lib/python3.8/site-packages/sklearn/linear_model/_logistic.py:762: ConvergenceWarning: lbfgs failed to converge (status=1):\n",
      "STOP: TOTAL NO. of ITERATIONS REACHED LIMIT.\n",
      "\n",
      "Increase the number of iterations (max_iter) or scale the data as shown in:\n",
      "    https://scikit-learn.org/stable/modules/preprocessing.html\n",
      "Please also refer to the documentation for alternative solver options:\n",
      "    https://scikit-learn.org/stable/modules/linear_model.html#logistic-regression\n",
      "  n_iter_i = _check_optimize_result(\n"
     ]
    }
   ],
   "source": [
    "# use OrdinalClassifier\n",
    "ordianl = as2_analysis.OrdinalClassifier(model)\n",
    "ordianl.fit(x_train_new, y_train)\n",
    "y_val_pred_ordianl = ordianl.predict(x_val_new)"
   ]
  },
  {
   "cell_type": "code",
   "execution_count": 81,
   "metadata": {},
   "outputs": [],
   "source": [
    "val_cm = as2_analysis.compute_confusion_matrix(y_valid,y_pred,normalized=True)"
   ]
  },
  {
   "cell_type": "code",
   "execution_count": 82,
   "metadata": {},
   "outputs": [
    {
     "data": {
      "image/png": "[encoded data removed]",
      "text/plain": [
       "<Figure size 360x360 with 1 Axes>"
      ]
     },
     "metadata": {
      "needs_background": "light"
     },
     "output_type": "display_data"
    }
   ],
   "source": [
    "as2_plot.plot_cm(val_cm, [\"fit\",\"small\",\"big\"])"
   ]
  },
  {
   "cell_type": "code",
   "execution_count": 78,
   "metadata": {},
   "outputs": [
    {
     "data": {
      "image/png": "[encoded data removed]",
      "text/plain": [
       "<Figure size 360x360 with 1 Axes>"
      ]
     },
     "metadata": {
      "needs_background": "light"
     },
     "output_type": "display_data"
    }
   ],
   "source": [
    "as2_plot.plot_cm(val_cm, [\"fit\",\"small\",\"big\"])"
   ]
  },
  {
   "cell_type": "code",
   "execution_count": null,
   "metadata": {},
   "outputs": [],
   "source": []
  }
 ],
 "metadata": {
  "kernelspec": {
   "display_name": "Python 3",
   "language": "python",
   "name": "python3"
  },
  "language_info": {
   "codemirror_mode": {
    "name": "ipython",
    "version": 3
   },
   "file_extension": ".py",
   "mimetype": "text/x-python",
   "name": "python",
   "nbconvert_exporter": "python",
   "pygments_lexer": "ipython3",
   "version": "3.8.3"
  }
 },
 "nbformat": 4,
 "nbformat_minor": 2
}
