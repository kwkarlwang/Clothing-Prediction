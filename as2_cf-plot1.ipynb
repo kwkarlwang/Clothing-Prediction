{
 "cells": [
  {
   "cell_type": "code",
   "execution_count": 2,
   "metadata": {},
   "outputs": [
    {
     "name": "stderr",
     "output_type": "stream",
     "text": [
      "[nltk_data] Downloading package averaged_perceptron_tagger to\n",
      "[nltk_data]     /Users/Charlie/nltk_data...\n",
      "[nltk_data]   Package averaged_perceptron_tagger is already up-to-\n",
      "[nltk_data]       date!\n"
     ]
    },
    {
     "data": {
      "text/plain": [
       "True"
      ]
     },
     "execution_count": 2,
     "metadata": {},
     "output_type": "execute_result"
    }
   ],
   "source": [
    "import time\n",
    "import numpy\n",
    "import urllib\n",
    "import scipy.optimize\n",
    "import random\n",
    "from collections import defaultdict\n",
    "from collections import Counter\n",
    "import string\n",
    "from sklearn import linear_model\n",
    "import ast\n",
    "import importlib\n",
    "import numpy as np\n",
    "from scipy.spatial import distance\n",
    "import random\n",
    "import nltk\n",
    "import pandas as pd\n",
    "import matplotlib.pyplot as plt\n",
    "from datetime import datetime\n",
    "nltk.download(\"averaged_perceptron_tagger\")\n"
   ]
  },
  {
   "cell_type": "code",
   "execution_count": 3,
   "metadata": {},
   "outputs": [
    {
     "data": {
      "text/plain": [
       "<module 'as2_analysis_utils' from '/Users/Charlie/Documents/Work_School/UCSD/Grad/Fall_2020/CSE258/assignment2/as2_analysis_utils.py'>"
      ]
     },
     "execution_count": 3,
     "metadata": {},
     "output_type": "execute_result"
    }
   ],
   "source": [
    "import as2_analysis_utils as as2_analysis\n",
    "\n",
    "importlib.reload(as2_analysis)"
   ]
  },
  {
   "cell_type": "code",
   "execution_count": 4,
   "metadata": {},
   "outputs": [],
   "source": [
    "data_all = list(as2_analysis.parseData_line(\"renttherunway_final_data.json\"))"
   ]
  },
  {
   "cell_type": "code",
   "execution_count": 5,
   "metadata": {},
   "outputs": [],
   "source": [
    "def extract_features(data_all, key):\n",
    "    \"\"\"\n",
    "    return data of particualr key\n",
    "    \"\"\"\n",
    "    return [d[key] for d in data_all]"
   ]
  },
  {
   "cell_type": "code",
   "execution_count": 6,
   "metadata": {},
   "outputs": [],
   "source": [
    "ratings_all = extract_features(data_all,\"rating\")"
   ]
  },
  {
   "cell_type": "code",
   "execution_count": 7,
   "metadata": {},
   "outputs": [],
   "source": [
    "ratings_all = [int(i) for i in ratings_all if i != \"null\"]"
   ]
  },
  {
   "cell_type": "code",
   "execution_count": 8,
   "metadata": {},
   "outputs": [
    {
     "data": {
      "image/png": "[encoded data removed]",
      "text/plain": [
       "<Figure size 432x288 with 1 Axes>"
      ]
     },
     "metadata": {
      "needs_background": "light"
     },
     "output_type": "display_data"
    }
   ],
   "source": [
    "plt.hist(ratings_all,bins=9,density = True)\n",
    "plt.title(\"Rating Histogram\")\n",
    "plt.savefig(\"Rating Histogram.pdf\",bbox_inches=\"tight\")"
   ]
  },
  {
   "cell_type": "code",
   "execution_count": 9,
   "metadata": {},
   "outputs": [],
   "source": [
    "rating_fit = [int(d[\"rating\"]) for d in data_all if d[\"fit\"]==\"fit\" and d[\"rating\"]!=\"null\"]\n",
    "rating_small = [int(d[\"rating\"]) for d in data_all if d[\"fit\"]==\"small\" and d[\"rating\"]!=\"null\"]\n",
    "rating_large = [int(d[\"rating\"]) for d in data_all if d[\"fit\"]==\"large\" and d[\"rating\"]!=\"null\"]"
   ]
  },
  {
   "cell_type": "code",
   "execution_count": 10,
   "metadata": {},
   "outputs": [],
   "source": [
    "def plot_hist(data,title=\"\",bins=9):\n",
    "    plt.hist(data,bins=9,density = True)\n",
    "    plt.title(title)\n",
    "    plt.savefig(title +\".pdf\",bbox_inches=\"tight\")"
   ]
  },
  {
   "cell_type": "code",
   "execution_count": 99,
   "metadata": {},
   "outputs": [
    {
     "data": {
      "image/png": "[encoded data removed]",
      "text/plain": [
       "<Figure size 432x288 with 1 Axes>"
      ]
     },
     "metadata": {
      "needs_background": "light"
     },
     "output_type": "display_data"
    }
   ],
   "source": [
    "plot_hist(rating_fit,title=\"Ratings when customers say fit\",bins=9)"
   ]
  },
  {
   "cell_type": "code",
   "execution_count": 100,
   "metadata": {},
   "outputs": [
    {
     "data": {
      "image/png": "[encoded data removed]",
      "text/plain": [
       "<Figure size 432x288 with 1 Axes>"
      ]
     },
     "metadata": {
      "needs_background": "light"
     },
     "output_type": "display_data"
    }
   ],
   "source": [
    "plot_hist(rating_small,title=\"Ratings when customers say small\",bins=9)"
   ]
  },
  {
   "cell_type": "code",
   "execution_count": 101,
   "metadata": {},
   "outputs": [
    {
     "data": {
      "image/png": "[encoded data removed]",
      "text/plain": [
       "<Figure size 432x288 with 1 Axes>"
      ]
     },
     "metadata": {
      "needs_background": "light"
     },
     "output_type": "display_data"
    }
   ],
   "source": [
    "plot_hist(rating_large,title=\"Ratings when customers say large\",bins=9)"
   ]
  },
  {
   "cell_type": "code",
   "execution_count": 102,
   "metadata": {},
   "outputs": [],
   "source": [
    "data_rating_dict = defaultdict(list)\n",
    "for d in data_all:\n",
    "    rating = d[\"rating\"]\n",
    "    if rating != \"null\":\n",
    "        data_str = d[\"review_date\"]\n",
    "        date_datatime =  datetime.strptime(data_str, '%B %d, %Y')\n",
    "        \n",
    "        key = (date_datatime.year,date_datatime.month)\n",
    "        data_rating_dict[key].append(int(rating))"
   ]
  },
  {
   "cell_type": "code",
   "execution_count": 36,
   "metadata": {},
   "outputs": [],
   "source": [
    "data_rating_avg = {key: np.mean(val) for key,val in data_rating_dict.items()}"
   ]
  },
  {
   "cell_type": "code",
   "execution_count": 38,
   "metadata": {},
   "outputs": [],
   "source": [
    "data_rating_key = list(data_rating_avg.keys())"
   ]
  },
  {
   "cell_type": "code",
   "execution_count": 40,
   "metadata": {},
   "outputs": [],
   "source": [
    "data_rating_key.sort()"
   ]
  },
  {
   "cell_type": "code",
   "execution_count": 42,
   "metadata": {},
   "outputs": [],
   "source": [
    "data_avg = [data_rating_avg[month] for month in data_rating_key]"
   ]
  },
  {
   "cell_type": "code",
   "execution_count": 68,
   "metadata": {},
   "outputs": [],
   "source": [
    "x_labels = [\"{}-{}\".format(i[0],i[1]) for i in data_rating_key[::8]]"
   ]
  },
  {
   "cell_type": "code",
   "execution_count": 76,
   "metadata": {},
   "outputs": [
    {
     "data": {
      "image/png": "[encoded data removed]",
      "text/plain": [
       "<Figure size 432x288 with 1 Axes>"
      ]
     },
     "metadata": {
      "needs_background": "light"
     },
     "output_type": "display_data"
    }
   ],
   "source": [
    "x = np.arange(0,len(data_avg),8)\n",
    "fig,ax = plt.subplots(1,1) \n",
    "ax.plot(data_avg)\n",
    "\n",
    "ax.set_xticks(x)\n",
    "# Set ticks labels for x-axis\n",
    "ax.set_xticklabels(x_labels, rotation=40, fontsize=10)\n",
    "plt.title(\"Rating over time\")\n",
    "plt.savefig(\"Rating over time.pdf\",bbox_inches = \"tight\")"
   ]
  },
  {
   "cell_type": "code",
   "execution_count": 82,
   "metadata": {},
   "outputs": [],
   "source": [
    "data_fit_dict = defaultdict(list)\n",
    "for d in data_all:\n",
    "    rating = d[\"rating\"]\n",
    "    if rating != \"null\":\n",
    "        data_str = d[\"review_date\"]\n",
    "        date_datatime =  datetime.strptime(data_str, '%B %d, %Y')\n",
    "        fit = d[\"fit\"]\n",
    "        \n",
    "        key = (date_datatime.year,date_datatime.month)\n",
    "        data_fit_dict[key].append(fit)"
   ]
  },
  {
   "cell_type": "code",
   "execution_count": 90,
   "metadata": {},
   "outputs": [],
   "source": [
    "fit_freq = {key:val.count(\"fit\") for key,val in data_fit_dict.items()}\n",
    "small_freq = {key:val.count(\"small\") for key,val in data_fit_dict.items()}\n",
    "big_freq = {key:val.count(\"large\") for key,val in data_fit_dict.items()}"
   ]
  },
  {
   "cell_type": "code",
   "execution_count": 94,
   "metadata": {},
   "outputs": [],
   "source": [
    "def return_values_sorted_date(data_dict,date):\n",
    "    \"\"\"\n",
    "    date need to be sorted list of date\n",
    "    \"\"\"\n",
    "    \n",
    "    return [data_dict[month] for month in date]"
   ]
  },
  {
   "cell_type": "code",
   "execution_count": 98,
   "metadata": {},
   "outputs": [
    {
     "data": {
      "image/png": "[encoded data removed]",
      "text/plain": [
       "<Figure size 432x288 with 1 Axes>"
      ]
     },
     "metadata": {
      "needs_background": "light"
     },
     "output_type": "display_data"
    }
   ],
   "source": [
    "x = np.arange(0,len(data_avg),8)\n",
    "fig,ax = plt.subplots(1,1) \n",
    "\n",
    "ax.plot(return_values_sorted_date(fit_freq,data_rating_key),label=\"fit review frequency\")\n",
    "ax.plot(return_values_sorted_date(small_freq,data_rating_key),label=\"small review frequency\")\n",
    "ax.plot(return_values_sorted_date(big_freq,data_rating_key),label=\"big review frequency\")\n",
    "\n",
    "plt.legend()\n",
    "ax.set_xticks(x)\n",
    "# Set ticks labels for x-axis\n",
    "ax.set_xticklabels(x_labels, rotation=40, fontsize=10)\n",
    "plt.title(\"Customer Response Over Time\")\n",
    "plt.savefig(\"Customer Response Over Time.pdf\",bbox_inches = \"tight\")"
   ]
  },
  {
   "cell_type": "code",
   "execution_count": 92,
   "metadata": {},
   "outputs": [
    {
     "data": {
      "text/plain": [
       "[(2010, 11),\n",
       " (2011, 2),\n",
       " (2011, 3),\n",
       " (2011, 4),\n",
       " (2011, 5),\n",
       " (2011, 6),\n",
       " (2011, 7),\n",
       " (2011, 8),\n",
       " (2011, 9),\n",
       " (2011, 10),\n",
       " (2011, 11),\n",
       " (2011, 12),\n",
       " (2012, 1),\n",
       " (2012, 2),\n",
       " (2012, 3),\n",
       " (2012, 4),\n",
       " (2012, 5),\n",
       " (2012, 6),\n",
       " (2012, 7),\n",
       " (2012, 8),\n",
       " (2012, 9),\n",
       " (2012, 10),\n",
       " (2012, 11),\n",
       " (2012, 12),\n",
       " (2013, 1),\n",
       " (2013, 2),\n",
       " (2013, 3),\n",
       " (2013, 4),\n",
       " (2013, 5),\n",
       " (2013, 6),\n",
       " (2013, 7),\n",
       " (2013, 8),\n",
       " (2013, 9),\n",
       " (2013, 10),\n",
       " (2013, 11),\n",
       " (2013, 12),\n",
       " (2014, 1),\n",
       " (2014, 2),\n",
       " (2014, 3),\n",
       " (2014, 4),\n",
       " (2014, 5),\n",
       " (2014, 6),\n",
       " (2014, 7),\n",
       " (2014, 8),\n",
       " (2014, 9),\n",
       " (2014, 10),\n",
       " (2014, 11),\n",
       " (2014, 12),\n",
       " (2015, 1),\n",
       " (2015, 2),\n",
       " (2015, 3),\n",
       " (2015, 4),\n",
       " (2015, 5),\n",
       " (2015, 6),\n",
       " (2015, 7),\n",
       " (2015, 8),\n",
       " (2015, 9),\n",
       " (2015, 10),\n",
       " (2015, 11),\n",
       " (2015, 12),\n",
       " (2016, 1),\n",
       " (2016, 2),\n",
       " (2016, 3),\n",
       " (2016, 4),\n",
       " (2016, 5),\n",
       " (2016, 6),\n",
       " (2016, 7),\n",
       " (2016, 8),\n",
       " (2016, 9),\n",
       " (2016, 10),\n",
       " (2016, 11),\n",
       " (2016, 12),\n",
       " (2017, 1),\n",
       " (2017, 2),\n",
       " (2017, 3),\n",
       " (2017, 4),\n",
       " (2017, 5),\n",
       " (2017, 6),\n",
       " (2017, 7),\n",
       " (2017, 8),\n",
       " (2017, 9),\n",
       " (2017, 10),\n",
       " (2017, 11),\n",
       " (2017, 12),\n",
       " (2018, 1)]"
      ]
     },
     "execution_count": 92,
     "metadata": {},
     "output_type": "execute_result"
    }
   ],
   "source": [
    "data_rating_key"
   ]
  },
  {
   "cell_type": "code",
   "execution_count": null,
   "metadata": {},
   "outputs": [],
   "source": []
  }
 ],
 "metadata": {
  "kernelspec": {
   "display_name": "Python 3",
   "language": "python",
   "name": "python3"
  },
  "language_info": {
   "codemirror_mode": {
    "name": "ipython",
    "version": 3
   },
   "file_extension": ".py",
   "mimetype": "text/x-python",
   "name": "python",
   "nbconvert_exporter": "python",
   "pygments_lexer": "ipython3",
   "version": "3.8.3"
  }
 },
 "nbformat": 4,
 "nbformat_minor": 2
}
